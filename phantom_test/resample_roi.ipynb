{
 "cells": [
  {
   "cell_type": "code",
   "execution_count": 1,
   "source": [
    "from utils import check_dimension, resample_image\n",
    "from nilearn import image"
   ],
   "outputs": [],
   "metadata": {}
  },
  {
   "cell_type": "code",
   "execution_count": 2,
   "source": [
    "roi = '/Users/peetal/Documents/Github/rt-cloud/projects/phantom_test/data/roi/rsc_roi_small_resampled.nii.gz'\n",
    "ref = '/Users/peetal/Documents/Github/rt-cloud/projects/phantom_test/data/standard/tpl-MNI152NLin2009cAsym_res-02_desc-brain_mask.nii.gz'"
   ],
   "outputs": [],
   "metadata": {}
  },
  {
   "cell_type": "code",
   "execution_count": 19,
   "source": [
    "a = image.load_img(roi).get_fdata().shape"
   ],
   "outputs": [],
   "metadata": {}
  },
  {
   "cell_type": "code",
   "execution_count": 20,
   "source": [
    "b = image.load_img(ref).get_fdata().shape"
   ],
   "outputs": [],
   "metadata": {}
  },
  {
   "cell_type": "code",
   "execution_count": 10,
   "source": [
    "a = resampled_roi = resample_image(roi, ref)"
   ],
   "outputs": [],
   "metadata": {}
  },
  {
   "cell_type": "code",
   "execution_count": 11,
   "source": [
    "resampled_roi.to_filename('rsc_roi_small_resampled.nii.gz')"
   ],
   "outputs": [],
   "metadata": {}
  },
  {
   "cell_type": "code",
   "execution_count": 3,
   "source": [
    "check_dimension(roi, ref)"
   ],
   "outputs": [
    {
     "output_type": "stream",
     "name": "stdout",
     "text": [
      "(97, 115, 97)\n",
      "(97, 115, 97)\n"
     ]
    },
    {
     "output_type": "execute_result",
     "data": {
      "text/plain": [
       "True"
      ]
     },
     "metadata": {},
     "execution_count": 3
    }
   ],
   "metadata": {}
  },
  {
   "cell_type": "code",
   "execution_count": 9,
   "source": [
    "check = image.load_img('/Users/peetal/Documents/Github/rt-cloud/projects/phantom_test/data/roi/rsc_roi_big_resampled_2func_linear.nii.gz')\n",
    "check2 = image.load_img('/Users/peetal/Documents/Github/rt-cloud/projects/phantom_test/data/roi/rsc_roi_big_resampled.nii.gz')\n",
    "check3 = image.load_img('/Users/peetal/Documents/Github/rt-cloud/projects/phantom_test/data/sub_test/func_nii/ref_bold/refBOLD_avg.nii.gz')\n",
    "\n",
    "check4 = image.load_img('/Users/peetal/Documents/Github/rt-cloud/projects/phantom_test/data/roi/rsc_roi_big.nii.gz')"
   ],
   "outputs": [],
   "metadata": {}
  },
  {
   "cell_type": "code",
   "execution_count": 10,
   "source": [
    "check4.get_fdata().shape"
   ],
   "outputs": [
    {
     "output_type": "execute_result",
     "data": {
      "text/plain": [
       "(78, 92, 78)"
      ]
     },
     "metadata": {},
     "execution_count": 10
    }
   ],
   "metadata": {}
  },
  {
   "cell_type": "code",
   "execution_count": 7,
   "source": [
    "check2.get_fdata().shape"
   ],
   "outputs": [
    {
     "output_type": "execute_result",
     "data": {
      "text/plain": [
       "(97, 115, 97)"
      ]
     },
     "metadata": {},
     "execution_count": 7
    }
   ],
   "metadata": {}
  },
  {
   "cell_type": "code",
   "execution_count": 11,
   "source": [
    "check3.get_fdata().shape"
   ],
   "outputs": [
    {
     "output_type": "execute_result",
     "data": {
      "text/plain": [
       "(76, 76, 44)"
      ]
     },
     "metadata": {},
     "execution_count": 11
    }
   ],
   "metadata": {}
  },
  {
   "cell_type": "code",
   "execution_count": 12,
   "source": [
    "struc = image.load_img('/Users/peetal/Documents/Github/rt-cloud/projects/phantom_test/data/sub_test/struc_nii/Struc.nii.gz')\n",
    "struc.get_fdata().shape"
   ],
   "outputs": [
    {
     "output_type": "execute_result",
     "data": {
      "text/plain": [
       "(176, 256, 256)"
      ]
     },
     "metadata": {},
     "execution_count": 12
    }
   ],
   "metadata": {}
  },
  {
   "cell_type": "code",
   "execution_count": 13,
   "source": [
    "check.get_fdata().shape"
   ],
   "outputs": [
    {
     "output_type": "execute_result",
     "data": {
      "text/plain": [
       "(76, 76, 44)"
      ]
     },
     "metadata": {},
     "execution_count": 13
    }
   ],
   "metadata": {}
  },
  {
   "cell_type": "code",
   "execution_count": 14,
   "source": [
    "roi_nii = '/Users/peetal/Documents/Github/rt-cloud/projects/phantom_test/data/sub_test/roi/rsc_roi_big_resampled.nii.gz'\n",
    "roi_nii.split('/')[-1]"
   ],
   "outputs": [
    {
     "output_type": "execute_result",
     "data": {
      "text/plain": [
       "'rsc_roi_big_resampled.nii.gz'"
      ]
     },
     "metadata": {},
     "execution_count": 14
    }
   ],
   "metadata": {}
  },
  {
   "cell_type": "code",
   "execution_count": 2,
   "source": [
    "import numpy as np\n",
    "univariate = np.load('/Users/peetal/Documents/Github/rt-cloud/projects/phantom_test/data/sub_test/beh/roi_univaraite.npy')\n",
    "univariate.shape"
   ],
   "outputs": [
    {
     "output_type": "execute_result",
     "data": {
      "text/plain": [
       "(1, 332)"
      ]
     },
     "metadata": {},
     "execution_count": 2
    }
   ],
   "metadata": {}
  },
  {
   "cell_type": "code",
   "execution_count": 3,
   "source": [
    "multivariate = np.load('/Users/peetal/Documents/Github/rt-cloud/projects/phantom_test/data/sub_test/beh/roi0_multivariate.npy')\n",
    "multivariate.shape"
   ],
   "outputs": [
    {
     "output_type": "execute_result",
     "data": {
      "text/plain": [
       "(332, 284)"
      ]
     },
     "metadata": {},
     "execution_count": 3
    }
   ],
   "metadata": {}
  },
  {
   "cell_type": "code",
   "execution_count": null,
   "source": [],
   "outputs": [],
   "metadata": {}
  }
 ],
 "metadata": {
  "orig_nbformat": 4,
  "language_info": {
   "name": "python",
   "version": "3.7.10",
   "mimetype": "text/x-python",
   "codemirror_mode": {
    "name": "ipython",
    "version": 3
   },
   "pygments_lexer": "ipython3",
   "nbconvert_exporter": "python",
   "file_extension": ".py"
  },
  "kernelspec": {
   "name": "python3",
   "display_name": "Python 3.7.10 64-bit ('rtcloud': conda)"
  },
  "interpreter": {
   "hash": "cfcc282626e60188a6972d861c826fadbf91a192d1f9d3e977bd7fa828a1c340"
  }
 },
 "nbformat": 4,
 "nbformat_minor": 2
}